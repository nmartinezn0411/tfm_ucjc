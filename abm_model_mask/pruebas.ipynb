{
 "cells": [
  {
   "cell_type": "code",
   "execution_count": 2,
   "id": "58ae2533",
   "metadata": {},
   "outputs": [
    {
     "name": "stdout",
     "output_type": "stream",
     "text": [
      "simulation_p5_d1\n",
      "simulation_p5_d1.5\n",
      "simulation_p5_d1.75\n",
      "simulation_p5_d2\n",
      "simulation_p10_d1\n",
      "simulation_p10_d1.5\n",
      "simulation_p10_d1.75\n",
      "simulation_p10_d2\n",
      "simulation_p20_d1\n",
      "simulation_p20_d1.5\n",
      "simulation_p20_d1.75\n",
      "simulation_p20_d2\n",
      "simulation_p30_d1\n",
      "simulation_p30_d1.5\n",
      "simulation_p30_d1.75\n",
      "simulation_p30_d2\n",
      "simulation_p40_d1\n",
      "simulation_p40_d1.5\n",
      "simulation_p40_d1.75\n",
      "simulation_p40_d2\n",
      "simulation_p50_d1\n",
      "simulation_p50_d1.5\n",
      "simulation_p50_d1.75\n",
      "simulation_p50_d2\n"
     ]
    }
   ],
   "source": [
    "personas = [5, 10, 20, 30, 40, 50]\n",
    "distancias = [1, 1.5, 1.75, 2]\n",
    "\n",
    "for persona in personas:\n",
    "    for distancia in distancias:\n",
    "        simulation_name = \"simulation_p\" + str(persona) + \"_d\" + str(distancia)\n",
    "        print(simulation_name)\n"
   ]
  },
  {
   "cell_type": "code",
   "execution_count": 91,
   "id": "0994467b",
   "metadata": {},
   "outputs": [
    {
     "data": {
      "text/plain": [
       "32.408389137179356"
      ]
     },
     "execution_count": 91,
     "metadata": {},
     "output_type": "execute_result"
    }
   ],
   "source": [
    "import random\n",
    "\n",
    "# Define your realistic ranges for checkout time (in seconds)\n",
    "CHECKOUT_WAIT_MEAN = 90  # 3 minutes (180 seconds) as a typical (mean) wait\n",
    "CHECKOUT_WAIT_STD = 60    # 1 minute (60 seconds) of standard deviation\n",
    "CHECKOUT_WAIT_MIN = 20    # Absolute minimum: 10 seconds\n",
    "CHECKOUT_WAIT_MAX = 300   # Absolute maximum: 5 minutes\n",
    "\n",
    "def get_truncated_normal(mean, std, min_val, max_val):\n",
    "    \"\"\"Generates a random value from a normal distribution, truncated between min_val and max_val.\"\"\"\n",
    "    while True:\n",
    "        value = random.normalvariate(mean, std)\n",
    "        if min_val <= value <= max_val:\n",
    "            return value\n",
    "        # If value is outside bounds, loop and try again\n",
    "\n",
    "# In your Person class __init__ or where you set the time:\n",
    "checkout_wait_time = get_truncated_normal(CHECKOUT_WAIT_MEAN, CHECKOUT_WAIT_STD, CHECKOUT_WAIT_MIN, CHECKOUT_WAIT_MAX)\n",
    "checkout_wait_time"
   ]
  },
  {
   "cell_type": "code",
   "execution_count": 140,
   "id": "5a6596ca",
   "metadata": {},
   "outputs": [
    {
     "name": "stdout",
     "output_type": "stream",
     "text": [
      "0.064\n"
     ]
    }
   ],
   "source": [
    "import random\n",
    "mask_use = 0.05\n",
    "mask = random.random() < mask_use\n",
    "\n",
    "promedio = 0\n",
    "for i in range(1000):\n",
    "    mask = random.random() < mask_use\n",
    "    if mask:\n",
    "        promedio += 1\n",
    "print(promedio/1000)"
   ]
  },
  {
   "cell_type": "code",
   "execution_count": 58,
   "id": "7bc10f7f",
   "metadata": {},
   "outputs": [
    {
     "name": "stdout",
     "output_type": "stream",
     "text": [
      "1.6192631923808432\n"
     ]
    }
   ],
   "source": [
    "\n",
    "import random\n",
    "from constants import (\n",
    "    MASK_REDUCE, # 0.85 # Percentage of people using it\n",
    "    MASK_USE # (0.6, 0.9) # Reduction by the mask use\n",
    ")\n",
    "mask = random.random() < MASK_USE\n",
    "\n",
    "if mask:\n",
    "    mask_reduction = random.uniform(*MASK_REDUCE)\n",
    "else:\n",
    "    mask_reduction = 0\n",
    "\n",
    "INFECTION_RADIUS = 5 * (1 - mask_reduction)\n",
    "\n",
    "\n",
    "print(INFECTION_RADIUS)"
   ]
  }
 ],
 "metadata": {
  "kernelspec": {
   "display_name": "venv",
   "language": "python",
   "name": "python3"
  },
  "language_info": {
   "codemirror_mode": {
    "name": "ipython",
    "version": 3
   },
   "file_extension": ".py",
   "mimetype": "text/x-python",
   "name": "python",
   "nbconvert_exporter": "python",
   "pygments_lexer": "ipython3",
   "version": "3.10.12"
  }
 },
 "nbformat": 4,
 "nbformat_minor": 5
}

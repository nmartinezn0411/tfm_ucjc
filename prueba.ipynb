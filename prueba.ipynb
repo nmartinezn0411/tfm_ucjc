{
 "cells": [
  {
   "cell_type": "code",
   "execution_count": 25,
   "id": "e15eb869",
   "metadata": {},
   "outputs": [
    {
     "name": "stdout",
     "output_type": "stream",
     "text": [
      "[0. 0.]\n"
     ]
    }
   ],
   "source": [
    "import numpy as np\n",
    "\n",
    "print(np.zeros(2))"
   ]
  }
 ],
 "metadata": {
  "kernelspec": {
   "display_name": "Python 3 (ipykernel)",
   "language": "python",
   "name": "python3"
  },
  "language_info": {
   "codemirror_mode": {
    "name": "ipython",
    "version": 3
   },
   "file_extension": ".py",
   "mimetype": "text/x-python",
   "name": "python",
   "nbconvert_exporter": "python",
   "pygments_lexer": "ipython3",
   "version": "3.10.12"
  },
  "widgets": {
   "application/vnd.jupyter.widget-state+json": {
    "state": {
     "4ca189e89f594acd804fbf14e6277ead": {
      "model_module": "jupyter-vuetify",
      "model_module_version": "2.0.0",
      "model_name": "ThemeModel",
      "state": {
       "_model_module": "jupyter-vuetify",
       "_model_name": "ThemeModel",
       "_view_name": "ErrorWidgetView",
       "dark": null,
       "dark_jlab": null,
       "error": {},
       "msg": "Failed to load model class 'ThemeModel' from module 'jupyter-vuetify'"
      }
     },
     "55b014f21ea047118175dd0e0ca0a53d": {
      "model_module": "@jupyter-widgets/base",
      "model_module_version": "2.0.0",
      "model_name": "LayoutModel",
      "state": {}
     },
     "7513ec6e1cf64bc78ba550d856cccb87": {
      "model_module": "jupyter-vuetify",
      "model_module_version": "2.0.0",
      "model_name": "ThemeColorsModel",
      "state": {
       "_model_module": "jupyter-vuetify",
       "_model_name": "ThemeColorsModel",
       "_theme_name": "dark",
       "_view_name": "ErrorWidgetView",
       "background": "#121212",
       "error": {},
       "info": "#2196F3",
       "msg": "Failed to load model class 'ThemeColorsModel' from module 'jupyter-vuetify'",
       "on_surface_variant": "#424242",
       "primary": "#BB86FC",
       "primary_darken_1": "#3700B3",
       "secondary": "#03DAC5",
       "secondary_darken_1": "#03DAC5",
       "success": "#4CAF50",
       "surface": "#212121",
       "surface_bright": "#ccbfd6",
       "surface_variant": "#a3a3a3",
       "warning": "#FB8C00"
      }
     },
     "a3e6d202b01b4d67af7b16abcef9fad6": {
      "model_module": "jupyter-vuetify",
      "model_module_version": "2.0.0",
      "model_name": "ThemeColorsModel",
      "state": {
       "_model_module": "jupyter-vuetify",
       "_model_name": "ThemeColorsModel",
       "_theme_name": "light",
       "_view_name": "ErrorWidgetView",
       "background": "#FFFFFF",
       "error": {},
       "info": "#2196F3",
       "msg": "Failed to load model class 'ThemeColorsModel' from module 'jupyter-vuetify'",
       "on_surface_variant": "#EEEEEE",
       "primary": "#6200EE",
       "primary_darken_1": "#3700B3",
       "secondary": "#03DAC6",
       "secondary_darken_1": "#018786",
       "success": "#4CAF50",
       "surface": "#FFFFFF",
       "surface_bright": "#FFFFFF",
       "surface_variant": "#424242",
       "warning": "#FB8C00"
      }
     },
     "f4cfab3662c54eee8391fe2da22e2e5d": {
      "model_module": "jupyter-vue",
      "model_module_version": "2.0.0",
      "model_name": "ForceLoadModel",
      "state": {
       "_model_module": "jupyter-vue",
       "_model_name": "ForceLoadModel",
       "_view_name": "ErrorWidgetView",
       "error": {},
       "layout": "IPY_MODEL_55b014f21ea047118175dd0e0ca0a53d",
       "msg": "Failed to load model class 'ForceLoadModel' from module 'jupyter-vue'"
      }
     }
    },
    "version_major": 2,
    "version_minor": 0
   }
  }
 },
 "nbformat": 4,
 "nbformat_minor": 5
}
